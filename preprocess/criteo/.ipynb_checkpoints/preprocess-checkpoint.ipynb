{
 "cells": [
  {
   "cell_type": "code",
   "execution_count": 1,
   "id": "4b29f51d-93f9-4a16-bdfd-8322e6633f0a",
   "metadata": {},
   "outputs": [],
   "source": [
    "import pandas as pd\n",
    "import numpy as np\n",
    "from sklearn.preprocessing import StandardScaler, LabelEncoder"
   ]
  },
  {
   "cell_type": "code",
   "execution_count": 2,
   "id": "abfa5a63-a722-4212-b45c-18790fe71a4c",
   "metadata": {},
   "outputs": [],
   "source": [
    "sampling = True\n",
    "train_size = 1000000\n",
    "test_size = 200000"
   ]
  },
  {
   "cell_type": "markdown",
   "id": "0cf96a28-def3-499e-b296-9199111ada92",
   "metadata": {},
   "source": [
    "# 读入数据"
   ]
  },
  {
   "cell_type": "code",
   "execution_count": 3,
   "id": "a500d473",
   "metadata": {},
   "outputs": [
    {
     "data": {
      "text/plain": [
       "['I1',\n",
       " 'I2',\n",
       " 'I3',\n",
       " 'I4',\n",
       " 'I5',\n",
       " 'I6',\n",
       " 'I7',\n",
       " 'I8',\n",
       " 'I9',\n",
       " 'I10',\n",
       " 'I11',\n",
       " 'I12',\n",
       " 'I13']"
      ]
     },
     "execution_count": 3,
     "metadata": {},
     "output_type": "execute_result"
    }
   ],
   "source": [
    "NUMERICAL = ['I' + str(i) for i in range(1, 14)]\n",
    "NUMERICAL"
   ]
  },
  {
   "cell_type": "code",
   "execution_count": 4,
   "id": "9e773408",
   "metadata": {},
   "outputs": [
    {
     "data": {
      "text/plain": [
       "['C1',\n",
       " 'C2',\n",
       " 'C3',\n",
       " 'C4',\n",
       " 'C5',\n",
       " 'C6',\n",
       " 'C7',\n",
       " 'C8',\n",
       " 'C9',\n",
       " 'C10',\n",
       " 'C11',\n",
       " 'C12',\n",
       " 'C13',\n",
       " 'C14',\n",
       " 'C15',\n",
       " 'C16',\n",
       " 'C17',\n",
       " 'C18',\n",
       " 'C19',\n",
       " 'C20',\n",
       " 'C21',\n",
       " 'C22',\n",
       " 'C23',\n",
       " 'C24',\n",
       " 'C25',\n",
       " 'C26']"
      ]
     },
     "execution_count": 4,
     "metadata": {},
     "output_type": "execute_result"
    }
   ],
   "source": [
    "CATEGORICAL = ['C' + str(i) for i in range(1, 27)]\n",
    "CATEGORICAL"
   ]
  },
  {
   "cell_type": "code",
   "execution_count": 5,
   "id": "7035ce83-d587-4ebd-8d0d-0a8f0a7e735c",
   "metadata": {},
   "outputs": [],
   "source": [
    "train_path = \"train.txt\"\n",
    "\n",
    "if sampling:\n",
    "    df = pd.read_csv(train_path, sep='\\t', header=None, names=['label']+NUMERICAL+CATEGORICAL, nrows=train_size+test_size)\n",
    "else:\n",
    "    df = pd.read_csv(train_path, sep='\\t', header=None, names=['label']+NUMERICAL+CATEGORICAL)\n",
    "\n",
    "df[NUMERICAL] = df[NUMERICAL].fillna(0)\n",
    "df[CATEGORICAL] = df[CATEGORICAL].fillna('-1')"
   ]
  },
  {
   "cell_type": "code",
   "execution_count": 6,
   "id": "f9690180-e47d-4c6b-a0cd-cc1e6f047933",
   "metadata": {
    "scrolled": true
   },
   "outputs": [
    {
     "data": {
      "text/html": [
       "<div>\n",
       "<style scoped>\n",
       "    .dataframe tbody tr th:only-of-type {\n",
       "        vertical-align: middle;\n",
       "    }\n",
       "\n",
       "    .dataframe tbody tr th {\n",
       "        vertical-align: top;\n",
       "    }\n",
       "\n",
       "    .dataframe thead th {\n",
       "        text-align: right;\n",
       "    }\n",
       "</style>\n",
       "<table border=\"1\" class=\"dataframe\">\n",
       "  <thead>\n",
       "    <tr style=\"text-align: right;\">\n",
       "      <th></th>\n",
       "      <th>label</th>\n",
       "      <th>I1</th>\n",
       "      <th>I2</th>\n",
       "      <th>I3</th>\n",
       "      <th>I4</th>\n",
       "      <th>I5</th>\n",
       "      <th>I6</th>\n",
       "      <th>I7</th>\n",
       "      <th>I8</th>\n",
       "      <th>I9</th>\n",
       "      <th>...</th>\n",
       "      <th>C17</th>\n",
       "      <th>C18</th>\n",
       "      <th>C19</th>\n",
       "      <th>C20</th>\n",
       "      <th>C21</th>\n",
       "      <th>C22</th>\n",
       "      <th>C23</th>\n",
       "      <th>C24</th>\n",
       "      <th>C25</th>\n",
       "      <th>C26</th>\n",
       "    </tr>\n",
       "  </thead>\n",
       "  <tbody>\n",
       "    <tr>\n",
       "      <th>0</th>\n",
       "      <td>0</td>\n",
       "      <td>1.0</td>\n",
       "      <td>1</td>\n",
       "      <td>5.0</td>\n",
       "      <td>0.0</td>\n",
       "      <td>1382.0</td>\n",
       "      <td>4.0</td>\n",
       "      <td>15.0</td>\n",
       "      <td>2.0</td>\n",
       "      <td>181.0</td>\n",
       "      <td>...</td>\n",
       "      <td>e5ba7672</td>\n",
       "      <td>f54016b9</td>\n",
       "      <td>21ddcdc9</td>\n",
       "      <td>b1252a9d</td>\n",
       "      <td>07b5194c</td>\n",
       "      <td>NaN</td>\n",
       "      <td>3a171ecb</td>\n",
       "      <td>c5c50484</td>\n",
       "      <td>e8b83407</td>\n",
       "      <td>9727dd16</td>\n",
       "    </tr>\n",
       "    <tr>\n",
       "      <th>1</th>\n",
       "      <td>0</td>\n",
       "      <td>2.0</td>\n",
       "      <td>0</td>\n",
       "      <td>44.0</td>\n",
       "      <td>1.0</td>\n",
       "      <td>102.0</td>\n",
       "      <td>8.0</td>\n",
       "      <td>2.0</td>\n",
       "      <td>2.0</td>\n",
       "      <td>4.0</td>\n",
       "      <td>...</td>\n",
       "      <td>07c540c4</td>\n",
       "      <td>b04e4670</td>\n",
       "      <td>21ddcdc9</td>\n",
       "      <td>5840adea</td>\n",
       "      <td>60f6221e</td>\n",
       "      <td>NaN</td>\n",
       "      <td>3a171ecb</td>\n",
       "      <td>43f13e8b</td>\n",
       "      <td>e8b83407</td>\n",
       "      <td>731c3655</td>\n",
       "    </tr>\n",
       "    <tr>\n",
       "      <th>2</th>\n",
       "      <td>0</td>\n",
       "      <td>2.0</td>\n",
       "      <td>0</td>\n",
       "      <td>1.0</td>\n",
       "      <td>14.0</td>\n",
       "      <td>767.0</td>\n",
       "      <td>89.0</td>\n",
       "      <td>4.0</td>\n",
       "      <td>2.0</td>\n",
       "      <td>245.0</td>\n",
       "      <td>...</td>\n",
       "      <td>8efede7f</td>\n",
       "      <td>3412118d</td>\n",
       "      <td>NaN</td>\n",
       "      <td>NaN</td>\n",
       "      <td>e587c466</td>\n",
       "      <td>ad3062eb</td>\n",
       "      <td>3a171ecb</td>\n",
       "      <td>3b183c5c</td>\n",
       "      <td>NaN</td>\n",
       "      <td>NaN</td>\n",
       "    </tr>\n",
       "    <tr>\n",
       "      <th>3</th>\n",
       "      <td>0</td>\n",
       "      <td>0.0</td>\n",
       "      <td>893</td>\n",
       "      <td>0.0</td>\n",
       "      <td>0.0</td>\n",
       "      <td>4392.0</td>\n",
       "      <td>0.0</td>\n",
       "      <td>0.0</td>\n",
       "      <td>0.0</td>\n",
       "      <td>0.0</td>\n",
       "      <td>...</td>\n",
       "      <td>1e88c74f</td>\n",
       "      <td>74ef3502</td>\n",
       "      <td>NaN</td>\n",
       "      <td>NaN</td>\n",
       "      <td>6b3a5ca6</td>\n",
       "      <td>NaN</td>\n",
       "      <td>3a171ecb</td>\n",
       "      <td>9117a34a</td>\n",
       "      <td>NaN</td>\n",
       "      <td>NaN</td>\n",
       "    </tr>\n",
       "    <tr>\n",
       "      <th>4</th>\n",
       "      <td>0</td>\n",
       "      <td>3.0</td>\n",
       "      <td>-1</td>\n",
       "      <td>0.0</td>\n",
       "      <td>0.0</td>\n",
       "      <td>2.0</td>\n",
       "      <td>0.0</td>\n",
       "      <td>3.0</td>\n",
       "      <td>0.0</td>\n",
       "      <td>0.0</td>\n",
       "      <td>...</td>\n",
       "      <td>1e88c74f</td>\n",
       "      <td>26b3c7a7</td>\n",
       "      <td>NaN</td>\n",
       "      <td>NaN</td>\n",
       "      <td>21c9516a</td>\n",
       "      <td>NaN</td>\n",
       "      <td>32c7478e</td>\n",
       "      <td>b34f3128</td>\n",
       "      <td>NaN</td>\n",
       "      <td>NaN</td>\n",
       "    </tr>\n",
       "  </tbody>\n",
       "</table>\n",
       "<p>5 rows × 40 columns</p>\n",
       "</div>"
      ],
      "text/plain": [
       "   label   I1   I2    I3    I4      I5    I6    I7   I8     I9  ...       C17  \\\n",
       "0      0  1.0    1   5.0   0.0  1382.0   4.0  15.0  2.0  181.0  ...  e5ba7672   \n",
       "1      0  2.0    0  44.0   1.0   102.0   8.0   2.0  2.0    4.0  ...  07c540c4   \n",
       "2      0  2.0    0   1.0  14.0   767.0  89.0   4.0  2.0  245.0  ...  8efede7f   \n",
       "3      0  0.0  893   0.0   0.0  4392.0   0.0   0.0  0.0    0.0  ...  1e88c74f   \n",
       "4      0  3.0   -1   0.0   0.0     2.0   0.0   3.0  0.0    0.0  ...  1e88c74f   \n",
       "\n",
       "        C18       C19       C20       C21       C22       C23       C24  \\\n",
       "0  f54016b9  21ddcdc9  b1252a9d  07b5194c       NaN  3a171ecb  c5c50484   \n",
       "1  b04e4670  21ddcdc9  5840adea  60f6221e       NaN  3a171ecb  43f13e8b   \n",
       "2  3412118d       NaN       NaN  e587c466  ad3062eb  3a171ecb  3b183c5c   \n",
       "3  74ef3502       NaN       NaN  6b3a5ca6       NaN  3a171ecb  9117a34a   \n",
       "4  26b3c7a7       NaN       NaN  21c9516a       NaN  32c7478e  b34f3128   \n",
       "\n",
       "        C25       C26  \n",
       "0  e8b83407  9727dd16  \n",
       "1  e8b83407  731c3655  \n",
       "2       NaN       NaN  \n",
       "3       NaN       NaN  \n",
       "4       NaN       NaN  \n",
       "\n",
       "[5 rows x 40 columns]"
      ]
     },
     "execution_count": 6,
     "metadata": {},
     "output_type": "execute_result"
    }
   ],
   "source": [
    "df.head()"
   ]
  },
  {
   "cell_type": "code",
   "execution_count": 7,
   "id": "77b9d658-cf08-46d9-b161-d43e724a8433",
   "metadata": {},
   "outputs": [
    {
     "data": {
      "text/plain": [
       "label         2\n",
       "I1          274\n",
       "I2         4192\n",
       "I3         1806\n",
       "I4          199\n",
       "I5        86944\n",
       "I6         4113\n",
       "I7         1385\n",
       "I8          354\n",
       "I9         3184\n",
       "I10           9\n",
       "I11         122\n",
       "I12         173\n",
       "I13         394\n",
       "C1         1293\n",
       "C2          532\n",
       "C3       378254\n",
       "C4       137941\n",
       "C5          273\n",
       "C6           16\n",
       "C7        11011\n",
       "C8          574\n",
       "C9            3\n",
       "C10       32997\n",
       "C11        4776\n",
       "C12      314932\n",
       "C13        3072\n",
       "C14          26\n",
       "C15        9239\n",
       "C16      239685\n",
       "C17          10\n",
       "C18        3988\n",
       "C19        1886\n",
       "C20           4\n",
       "C21      281580\n",
       "C22          16\n",
       "C23          15\n",
       "C24       45510\n",
       "C25          72\n",
       "C26       33803\n",
       "dtype: int64"
      ]
     },
     "execution_count": 7,
     "metadata": {},
     "output_type": "execute_result"
    }
   ],
   "source": [
    "df.nunique(dropna=False)"
   ]
  },
  {
   "cell_type": "code",
   "execution_count": 8,
   "id": "1b5709fd-01eb-4d7a-bf6b-f6a1d32c075b",
   "metadata": {},
   "outputs": [
    {
     "data": {
      "text/html": [
       "<div>\n",
       "<style scoped>\n",
       "    .dataframe tbody tr th:only-of-type {\n",
       "        vertical-align: middle;\n",
       "    }\n",
       "\n",
       "    .dataframe tbody tr th {\n",
       "        vertical-align: top;\n",
       "    }\n",
       "\n",
       "    .dataframe thead th {\n",
       "        text-align: right;\n",
       "    }\n",
       "</style>\n",
       "<table border=\"1\" class=\"dataframe\">\n",
       "  <thead>\n",
       "    <tr style=\"text-align: right;\">\n",
       "      <th></th>\n",
       "      <th>label</th>\n",
       "      <th>I1</th>\n",
       "      <th>I2</th>\n",
       "      <th>I3</th>\n",
       "      <th>I4</th>\n",
       "      <th>I5</th>\n",
       "      <th>I6</th>\n",
       "      <th>I7</th>\n",
       "      <th>I8</th>\n",
       "      <th>I9</th>\n",
       "      <th>I10</th>\n",
       "      <th>I11</th>\n",
       "      <th>I12</th>\n",
       "      <th>I13</th>\n",
       "    </tr>\n",
       "  </thead>\n",
       "  <tbody>\n",
       "    <tr>\n",
       "      <th>count</th>\n",
       "      <td>1.200000e+06</td>\n",
       "      <td>1.200000e+06</td>\n",
       "      <td>1.200000e+06</td>\n",
       "      <td>1.200000e+06</td>\n",
       "      <td>1.200000e+06</td>\n",
       "      <td>1.200000e+06</td>\n",
       "      <td>1.200000e+06</td>\n",
       "      <td>1.200000e+06</td>\n",
       "      <td>1.200000e+06</td>\n",
       "      <td>1.200000e+06</td>\n",
       "      <td>1.200000e+06</td>\n",
       "      <td>1.200000e+06</td>\n",
       "      <td>1.200000e+06</td>\n",
       "      <td>1.200000e+06</td>\n",
       "    </tr>\n",
       "    <tr>\n",
       "      <th>mean</th>\n",
       "      <td>2.543350e-01</td>\n",
       "      <td>1.866453e+00</td>\n",
       "      <td>9.688470e+01</td>\n",
       "      <td>1.576393e+01</td>\n",
       "      <td>5.259195e+00</td>\n",
       "      <td>1.818651e+04</td>\n",
       "      <td>8.982258e+01</td>\n",
       "      <td>1.388532e+01</td>\n",
       "      <td>1.331705e+01</td>\n",
       "      <td>9.996111e+01</td>\n",
       "      <td>3.350767e-01</td>\n",
       "      <td>2.384666e+00</td>\n",
       "      <td>2.346825e-01</td>\n",
       "      <td>5.741627e+00</td>\n",
       "    </tr>\n",
       "    <tr>\n",
       "      <th>std</th>\n",
       "      <td>4.354869e-01</td>\n",
       "      <td>6.887357e+00</td>\n",
       "      <td>3.584607e+02</td>\n",
       "      <td>2.793539e+02</td>\n",
       "      <td>7.990471e+00</td>\n",
       "      <td>6.711415e+04</td>\n",
       "      <td>3.863767e+02</td>\n",
       "      <td>5.675110e+01</td>\n",
       "      <td>3.022910e+01</td>\n",
       "      <td>2.108133e+02</td>\n",
       "      <td>5.909136e-01</td>\n",
       "      <td>4.704163e+00</td>\n",
       "      <td>2.953496e+00</td>\n",
       "      <td>2.822303e+01</td>\n",
       "    </tr>\n",
       "    <tr>\n",
       "      <th>min</th>\n",
       "      <td>0.000000e+00</td>\n",
       "      <td>0.000000e+00</td>\n",
       "      <td>-3.000000e+00</td>\n",
       "      <td>0.000000e+00</td>\n",
       "      <td>0.000000e+00</td>\n",
       "      <td>0.000000e+00</td>\n",
       "      <td>0.000000e+00</td>\n",
       "      <td>0.000000e+00</td>\n",
       "      <td>0.000000e+00</td>\n",
       "      <td>0.000000e+00</td>\n",
       "      <td>0.000000e+00</td>\n",
       "      <td>0.000000e+00</td>\n",
       "      <td>0.000000e+00</td>\n",
       "      <td>0.000000e+00</td>\n",
       "    </tr>\n",
       "    <tr>\n",
       "      <th>25%</th>\n",
       "      <td>0.000000e+00</td>\n",
       "      <td>0.000000e+00</td>\n",
       "      <td>0.000000e+00</td>\n",
       "      <td>1.000000e+00</td>\n",
       "      <td>0.000000e+00</td>\n",
       "      <td>7.380000e+02</td>\n",
       "      <td>0.000000e+00</td>\n",
       "      <td>0.000000e+00</td>\n",
       "      <td>2.000000e+00</td>\n",
       "      <td>8.000000e+00</td>\n",
       "      <td>0.000000e+00</td>\n",
       "      <td>0.000000e+00</td>\n",
       "      <td>0.000000e+00</td>\n",
       "      <td>0.000000e+00</td>\n",
       "    </tr>\n",
       "    <tr>\n",
       "      <th>50%</th>\n",
       "      <td>0.000000e+00</td>\n",
       "      <td>0.000000e+00</td>\n",
       "      <td>3.000000e+00</td>\n",
       "      <td>3.000000e+00</td>\n",
       "      <td>2.000000e+00</td>\n",
       "      <td>2.452000e+03</td>\n",
       "      <td>1.600000e+01</td>\n",
       "      <td>3.000000e+00</td>\n",
       "      <td>8.000000e+00</td>\n",
       "      <td>3.500000e+01</td>\n",
       "      <td>0.000000e+00</td>\n",
       "      <td>1.000000e+00</td>\n",
       "      <td>0.000000e+00</td>\n",
       "      <td>2.000000e+00</td>\n",
       "    </tr>\n",
       "    <tr>\n",
       "      <th>75%</th>\n",
       "      <td>1.000000e+00</td>\n",
       "      <td>1.000000e+00</td>\n",
       "      <td>3.300000e+01</td>\n",
       "      <td>1.000000e+01</td>\n",
       "      <td>7.000000e+00</td>\n",
       "      <td>9.920000e+03</td>\n",
       "      <td>7.100000e+01</td>\n",
       "      <td>1.000000e+01</td>\n",
       "      <td>2.000000e+01</td>\n",
       "      <td>1.030000e+02</td>\n",
       "      <td>1.000000e+00</td>\n",
       "      <td>2.000000e+00</td>\n",
       "      <td>0.000000e+00</td>\n",
       "      <td>7.000000e+00</td>\n",
       "    </tr>\n",
       "    <tr>\n",
       "      <th>max</th>\n",
       "      <td>1.000000e+00</td>\n",
       "      <td>7.800000e+02</td>\n",
       "      <td>1.852200e+04</td>\n",
       "      <td>6.553500e+04</td>\n",
       "      <td>5.070000e+02</td>\n",
       "      <td>2.527030e+06</td>\n",
       "      <td>2.335230e+05</td>\n",
       "      <td>8.807000e+03</td>\n",
       "      <td>5.064000e+03</td>\n",
       "      <td>1.932700e+04</td>\n",
       "      <td>8.000000e+00</td>\n",
       "      <td>1.470000e+02</td>\n",
       "      <td>7.680000e+02</td>\n",
       "      <td>6.702000e+03</td>\n",
       "    </tr>\n",
       "  </tbody>\n",
       "</table>\n",
       "</div>"
      ],
      "text/plain": [
       "              label            I1            I2            I3            I4  \\\n",
       "count  1.200000e+06  1.200000e+06  1.200000e+06  1.200000e+06  1.200000e+06   \n",
       "mean   2.543350e-01  1.866453e+00  9.688470e+01  1.576393e+01  5.259195e+00   \n",
       "std    4.354869e-01  6.887357e+00  3.584607e+02  2.793539e+02  7.990471e+00   \n",
       "min    0.000000e+00  0.000000e+00 -3.000000e+00  0.000000e+00  0.000000e+00   \n",
       "25%    0.000000e+00  0.000000e+00  0.000000e+00  1.000000e+00  0.000000e+00   \n",
       "50%    0.000000e+00  0.000000e+00  3.000000e+00  3.000000e+00  2.000000e+00   \n",
       "75%    1.000000e+00  1.000000e+00  3.300000e+01  1.000000e+01  7.000000e+00   \n",
       "max    1.000000e+00  7.800000e+02  1.852200e+04  6.553500e+04  5.070000e+02   \n",
       "\n",
       "                 I5            I6            I7            I8            I9  \\\n",
       "count  1.200000e+06  1.200000e+06  1.200000e+06  1.200000e+06  1.200000e+06   \n",
       "mean   1.818651e+04  8.982258e+01  1.388532e+01  1.331705e+01  9.996111e+01   \n",
       "std    6.711415e+04  3.863767e+02  5.675110e+01  3.022910e+01  2.108133e+02   \n",
       "min    0.000000e+00  0.000000e+00  0.000000e+00  0.000000e+00  0.000000e+00   \n",
       "25%    7.380000e+02  0.000000e+00  0.000000e+00  2.000000e+00  8.000000e+00   \n",
       "50%    2.452000e+03  1.600000e+01  3.000000e+00  8.000000e+00  3.500000e+01   \n",
       "75%    9.920000e+03  7.100000e+01  1.000000e+01  2.000000e+01  1.030000e+02   \n",
       "max    2.527030e+06  2.335230e+05  8.807000e+03  5.064000e+03  1.932700e+04   \n",
       "\n",
       "                I10           I11           I12           I13  \n",
       "count  1.200000e+06  1.200000e+06  1.200000e+06  1.200000e+06  \n",
       "mean   3.350767e-01  2.384666e+00  2.346825e-01  5.741627e+00  \n",
       "std    5.909136e-01  4.704163e+00  2.953496e+00  2.822303e+01  \n",
       "min    0.000000e+00  0.000000e+00  0.000000e+00  0.000000e+00  \n",
       "25%    0.000000e+00  0.000000e+00  0.000000e+00  0.000000e+00  \n",
       "50%    0.000000e+00  1.000000e+00  0.000000e+00  2.000000e+00  \n",
       "75%    1.000000e+00  2.000000e+00  0.000000e+00  7.000000e+00  \n",
       "max    8.000000e+00  1.470000e+02  7.680000e+02  6.702000e+03  "
      ]
     },
     "execution_count": 8,
     "metadata": {},
     "output_type": "execute_result"
    }
   ],
   "source": [
    "df.describe()"
   ]
  },
  {
   "cell_type": "code",
   "execution_count": 9,
   "id": "bd240d80-ee30-4bec-a833-68a55709b874",
   "metadata": {},
   "outputs": [
    {
     "data": {
      "text/plain": [
       "0    0.745665\n",
       "1    0.254335\n",
       "Name: label, dtype: float64"
      ]
     },
     "execution_count": 9,
     "metadata": {},
     "output_type": "execute_result"
    }
   ],
   "source": [
    "df['label'].value_counts(normalize=True)"
   ]
  },
  {
   "cell_type": "markdown",
   "id": "01c629d5-4385-484b-bee6-cb7b504c75f9",
   "metadata": {},
   "source": [
    "## 数值特征归一化"
   ]
  },
  {
   "cell_type": "code",
   "execution_count": 10,
   "id": "67d94c8e-31e4-4f04-878f-99cbe3ae735f",
   "metadata": {},
   "outputs": [
    {
     "ename": "KeyError",
     "evalue": "\"None of [Index(['l_i_fea_1', 'l_i_fea_2', 'l_i_fea_4', 'l_i_fea_5', 'l_u_fea_6',\\n       'l_u_fea_1'],\\n      dtype='object')] are in the [columns]\"",
     "output_type": "error",
     "traceback": [
      "\u001b[1;31m---------------------------------------------------------------------------\u001b[0m",
      "\u001b[1;31mKeyError\u001b[0m                                  Traceback (most recent call last)",
      "Cell \u001b[1;32mIn[10], line 3\u001b[0m\n\u001b[0;32m      1\u001b[0m NUMERICAL \u001b[38;5;241m=\u001b[39m [\u001b[38;5;124m'\u001b[39m\u001b[38;5;124ml_i_fea_1\u001b[39m\u001b[38;5;124m'\u001b[39m, \u001b[38;5;124m'\u001b[39m\u001b[38;5;124ml_i_fea_2\u001b[39m\u001b[38;5;124m'\u001b[39m, \u001b[38;5;124m'\u001b[39m\u001b[38;5;124ml_i_fea_4\u001b[39m\u001b[38;5;124m'\u001b[39m, \u001b[38;5;124m'\u001b[39m\u001b[38;5;124ml_i_fea_5\u001b[39m\u001b[38;5;124m'\u001b[39m, \u001b[38;5;124m'\u001b[39m\u001b[38;5;124ml_u_fea_6\u001b[39m\u001b[38;5;124m'\u001b[39m, \u001b[38;5;124m'\u001b[39m\u001b[38;5;124ml_u_fea_1\u001b[39m\u001b[38;5;124m'\u001b[39m]\n\u001b[0;32m      2\u001b[0m scaler \u001b[38;5;241m=\u001b[39m StandardScaler()\n\u001b[1;32m----> 3\u001b[0m scaler\u001b[38;5;241m.\u001b[39mfit(\u001b[43mdf\u001b[49m\u001b[43m[\u001b[49m\u001b[43mNUMERICAL\u001b[49m\u001b[43m]\u001b[49m)\n\u001b[0;32m      4\u001b[0m df[NUMERICAL] \u001b[38;5;241m=\u001b[39m scaler\u001b[38;5;241m.\u001b[39mtransform(df[NUMERICAL])\n\u001b[0;32m      5\u001b[0m df[NUMERICAL]\u001b[38;5;241m.\u001b[39mhead()\n",
      "File \u001b[1;32mD:\\anaconda3\\lib\\site-packages\\pandas\\core\\frame.py:3813\u001b[0m, in \u001b[0;36mDataFrame.__getitem__\u001b[1;34m(self, key)\u001b[0m\n\u001b[0;32m   3811\u001b[0m     \u001b[38;5;28;01mif\u001b[39;00m is_iterator(key):\n\u001b[0;32m   3812\u001b[0m         key \u001b[38;5;241m=\u001b[39m \u001b[38;5;28mlist\u001b[39m(key)\n\u001b[1;32m-> 3813\u001b[0m     indexer \u001b[38;5;241m=\u001b[39m \u001b[38;5;28;43mself\u001b[39;49m\u001b[38;5;241;43m.\u001b[39;49m\u001b[43mcolumns\u001b[49m\u001b[38;5;241;43m.\u001b[39;49m\u001b[43m_get_indexer_strict\u001b[49m\u001b[43m(\u001b[49m\u001b[43mkey\u001b[49m\u001b[43m,\u001b[49m\u001b[43m \u001b[49m\u001b[38;5;124;43m\"\u001b[39;49m\u001b[38;5;124;43mcolumns\u001b[39;49m\u001b[38;5;124;43m\"\u001b[39;49m\u001b[43m)\u001b[49m[\u001b[38;5;241m1\u001b[39m]\n\u001b[0;32m   3815\u001b[0m \u001b[38;5;66;03m# take() does not accept boolean indexers\u001b[39;00m\n\u001b[0;32m   3816\u001b[0m \u001b[38;5;28;01mif\u001b[39;00m \u001b[38;5;28mgetattr\u001b[39m(indexer, \u001b[38;5;124m\"\u001b[39m\u001b[38;5;124mdtype\u001b[39m\u001b[38;5;124m\"\u001b[39m, \u001b[38;5;28;01mNone\u001b[39;00m) \u001b[38;5;241m==\u001b[39m \u001b[38;5;28mbool\u001b[39m:\n",
      "File \u001b[1;32mD:\\anaconda3\\lib\\site-packages\\pandas\\core\\indexes\\base.py:6070\u001b[0m, in \u001b[0;36mIndex._get_indexer_strict\u001b[1;34m(self, key, axis_name)\u001b[0m\n\u001b[0;32m   6067\u001b[0m \u001b[38;5;28;01melse\u001b[39;00m:\n\u001b[0;32m   6068\u001b[0m     keyarr, indexer, new_indexer \u001b[38;5;241m=\u001b[39m \u001b[38;5;28mself\u001b[39m\u001b[38;5;241m.\u001b[39m_reindex_non_unique(keyarr)\n\u001b[1;32m-> 6070\u001b[0m \u001b[38;5;28;43mself\u001b[39;49m\u001b[38;5;241;43m.\u001b[39;49m\u001b[43m_raise_if_missing\u001b[49m\u001b[43m(\u001b[49m\u001b[43mkeyarr\u001b[49m\u001b[43m,\u001b[49m\u001b[43m \u001b[49m\u001b[43mindexer\u001b[49m\u001b[43m,\u001b[49m\u001b[43m \u001b[49m\u001b[43maxis_name\u001b[49m\u001b[43m)\u001b[49m\n\u001b[0;32m   6072\u001b[0m keyarr \u001b[38;5;241m=\u001b[39m \u001b[38;5;28mself\u001b[39m\u001b[38;5;241m.\u001b[39mtake(indexer)\n\u001b[0;32m   6073\u001b[0m \u001b[38;5;28;01mif\u001b[39;00m \u001b[38;5;28misinstance\u001b[39m(key, Index):\n\u001b[0;32m   6074\u001b[0m     \u001b[38;5;66;03m# GH 42790 - Preserve name from an Index\u001b[39;00m\n",
      "File \u001b[1;32mD:\\anaconda3\\lib\\site-packages\\pandas\\core\\indexes\\base.py:6130\u001b[0m, in \u001b[0;36mIndex._raise_if_missing\u001b[1;34m(self, key, indexer, axis_name)\u001b[0m\n\u001b[0;32m   6128\u001b[0m     \u001b[38;5;28;01mif\u001b[39;00m use_interval_msg:\n\u001b[0;32m   6129\u001b[0m         key \u001b[38;5;241m=\u001b[39m \u001b[38;5;28mlist\u001b[39m(key)\n\u001b[1;32m-> 6130\u001b[0m     \u001b[38;5;28;01mraise\u001b[39;00m \u001b[38;5;167;01mKeyError\u001b[39;00m(\u001b[38;5;124mf\u001b[39m\u001b[38;5;124m\"\u001b[39m\u001b[38;5;124mNone of [\u001b[39m\u001b[38;5;132;01m{\u001b[39;00mkey\u001b[38;5;132;01m}\u001b[39;00m\u001b[38;5;124m] are in the [\u001b[39m\u001b[38;5;132;01m{\u001b[39;00maxis_name\u001b[38;5;132;01m}\u001b[39;00m\u001b[38;5;124m]\u001b[39m\u001b[38;5;124m\"\u001b[39m)\n\u001b[0;32m   6132\u001b[0m not_found \u001b[38;5;241m=\u001b[39m \u001b[38;5;28mlist\u001b[39m(ensure_index(key)[missing_mask\u001b[38;5;241m.\u001b[39mnonzero()[\u001b[38;5;241m0\u001b[39m]]\u001b[38;5;241m.\u001b[39munique())\n\u001b[0;32m   6133\u001b[0m \u001b[38;5;28;01mraise\u001b[39;00m \u001b[38;5;167;01mKeyError\u001b[39;00m(\u001b[38;5;124mf\u001b[39m\u001b[38;5;124m\"\u001b[39m\u001b[38;5;132;01m{\u001b[39;00mnot_found\u001b[38;5;132;01m}\u001b[39;00m\u001b[38;5;124m not in index\u001b[39m\u001b[38;5;124m\"\u001b[39m)\n",
      "\u001b[1;31mKeyError\u001b[0m: \"None of [Index(['l_i_fea_1', 'l_i_fea_2', 'l_i_fea_4', 'l_i_fea_5', 'l_u_fea_6',\\n       'l_u_fea_1'],\\n      dtype='object')] are in the [columns]\""
     ]
    }
   ],
   "source": [
    "NUMERICAL = ['l_i_fea_1', 'l_i_fea_2', 'l_i_fea_4', 'l_i_fea_5', 'l_u_fea_6', 'l_u_fea_1']\n",
    "scaler = StandardScaler()\n",
    "scaler.fit(df[NUMERICAL])\n",
    "df[NUMERICAL] = scaler.transform(df[NUMERICAL])\n",
    "df[NUMERICAL].head()"
   ]
  },
  {
   "cell_type": "code",
   "execution_count": null,
   "id": "9f9b7cc3-3340-4cdc-866d-e8639472d313",
   "metadata": {},
   "outputs": [],
   "source": [
    "df_test[NUMERICAL] = scaler.transform(df_test[NUMERICAL])\n",
    "df_test[NUMERICAL].head()"
   ]
  },
  {
   "cell_type": "markdown",
   "id": "33f79e8a-f538-41ea-b1d3-df71d2b4c294",
   "metadata": {},
   "source": [
    "## 类别特征编码"
   ]
  },
  {
   "cell_type": "code",
   "execution_count": null,
   "id": "7331bb6f-7898-4a1b-805d-c5b3f1eda438",
   "metadata": {},
   "outputs": [],
   "source": [
    "CATEGORICAL = ['l_i_fea_3', 'l_i_fea_6', 'l_i_fea_7', 'l_i_fea_8', 'l_i_fea_9', 'l_i_fea_10', 'l_u_fea_2', 'l_u_fea_3', 'l_u_fea_4', 'l_u_fea_5', 'f_u_fea_1', 'f_u_fea_2', 'f_uc_fea_1', 'f_uc_fea_2', 'f_c']\n",
    "\n",
    "for col in CATEGORICAL:\n",
    "    le = LabelEncoder()\n",
    "    le.fit(df[col])\n",
    "    df[col] = le.transform(df[col])\n",
    "    df_test[col] = le.transform(df_test[col])\n",
    "    \n",
    "df[CATEGORICAL].head()"
   ]
  },
  {
   "cell_type": "code",
   "execution_count": null,
   "id": "a2637b6c-1925-4ed5-869b-40b82f4ac033",
   "metadata": {},
   "outputs": [],
   "source": [
    "df_test[CATEGORICAL].head()"
   ]
  },
  {
   "cell_type": "markdown",
   "id": "b2034371",
   "metadata": {},
   "source": [
    "# 保存类别特征数量"
   ]
  },
  {
   "cell_type": "code",
   "execution_count": null,
   "id": "04af230e",
   "metadata": {},
   "outputs": [],
   "source": [
    "feature_columns = {}\n",
    "for feat in CATEGORICAL:\n",
    "    feature_columns[feat] = len(df[feat].unique())\n",
    "np.save('fea_num.npy', [feature_columns])"
   ]
  },
  {
   "cell_type": "markdown",
   "id": "c25cc2e4-ed11-49f3-be00-4eb24fa7333c",
   "metadata": {},
   "source": [
    "## 存入训练集"
   ]
  },
  {
   "cell_type": "code",
   "execution_count": null,
   "id": "e3052854-edf0-410c-856f-3d337c140a94",
   "metadata": {},
   "outputs": [],
   "source": [
    "train_set = df[NUMERICAL + CATEGORICAL + ['label']]\n",
    "train_set.head()"
   ]
  },
  {
   "cell_type": "code",
   "execution_count": null,
   "id": "bee54a38",
   "metadata": {},
   "outputs": [],
   "source": [
    "train_set.to_csv('fedads_train.csv', index=False)"
   ]
  },
  {
   "cell_type": "markdown",
   "id": "79e046b9",
   "metadata": {},
   "source": [
    "## 存入测试集"
   ]
  },
  {
   "cell_type": "code",
   "execution_count": null,
   "id": "11f3eddf-0a5e-45b1-bb9f-8a8b05bd7d15",
   "metadata": {},
   "outputs": [],
   "source": [
    "test_set = df_test[NUMERICAL + CATEGORICAL + ['label']]\n",
    "test_set.head()"
   ]
  },
  {
   "cell_type": "code",
   "execution_count": null,
   "id": "a790914e",
   "metadata": {},
   "outputs": [],
   "source": [
    "test_set.to_csv('fedads_test.csv', index=False)"
   ]
  }
 ],
 "metadata": {
  "kernelspec": {
   "display_name": "Python 3 (ipykernel)",
   "language": "python",
   "name": "python3"
  },
  "language_info": {
   "codemirror_mode": {
    "name": "ipython",
    "version": 3
   },
   "file_extension": ".py",
   "mimetype": "text/x-python",
   "name": "python",
   "nbconvert_exporter": "python",
   "pygments_lexer": "ipython3",
   "version": "3.10.9"
  }
 },
 "nbformat": 4,
 "nbformat_minor": 5
}
